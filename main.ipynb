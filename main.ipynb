{
 "cells": [
  {
   "cell_type": "markdown",
   "metadata": {},
   "source": [
    "## Coletando dados\n",
    "##### Coletando dados salvos estaticamente na pasta `./data`"
   ]
  },
  {
   "cell_type": "code",
   "execution_count": 220,
   "metadata": {},
   "outputs": [],
   "source": [
    "import pandas as pd\n",
    "\n",
    "df = pd.read_csv(\"./data/data.csv\",low_memory=False)"
   ]
  },
  {
   "cell_type": "markdown",
   "metadata": {},
   "source": [
    "## Convertendo valor de renda per capita para numérico\n",
    "##### Extraindo os valores de `Renda Per Capita`, transformando de categorico para numerico, atraves da media entre o menor e o maior valor. "
   ]
  },
  {
   "cell_type": "code",
   "execution_count": 221,
   "metadata": {},
   "outputs": [],
   "source": [
    "import re \n",
    "import numpy as np\n",
    "\n",
    "def convert_renda_per_capita(value):\n",
    "    if isinstance(value, str):\n",
    "        match = re.match(r\"(\\d+,\\d+|\\d+) Sm < Rfp <= (\\d+,\\d+|\\d+) Sm\", value)\n",
    "        if match:\n",
    "            lower_bound = float(match.group(1).replace(\",\", \".\"))\n",
    "            upper_bound = float(match.group(2).replace(\",\", \".\"))\n",
    "            return (lower_bound + upper_bound) / 2\n",
    "    return np.nan\n",
    "\n",
    "df[\"Renda per Capita\"] = df[\"Renda per Capita\"].apply(convert_renda_per_capita)"
   ]
  },
  {
   "cell_type": "markdown",
   "metadata": {},
   "source": [
    "## Pré-processando valores nulos \n",
    "##### Processando valores nulos, para valores categoricos atribuir categoria `Desconhecido`, para variaveis numericas, tirando `Renda Per Capita`, atribuimos a media dos valores daquela coluna. Para fins de desenvolvimento, salvamos os dados processados na pasta `./data/processed_data.csv`\n"
   ]
  },
  {
   "cell_type": "code",
   "execution_count": 222,
   "metadata": {},
   "outputs": [],
   "source": [
    "def pre_process(df) -> pd.DataFrame:\n",
    "    df = df.copy()\n",
    "    for coluna in df.columns:\n",
    "        if df[coluna].dtype in [\"float64\", \"int64\"]:  \n",
    "            if coluna == \"Renda per Capita\":\n",
    "                df = df[df[\"Renda per Capita\"].notnull() & (df[\"Renda per Capita\"] != \"\")]\n",
    "            df[coluna] = df[coluna].fillna(df[coluna].mean())  \n",
    "        elif df[coluna].dtype == \"object\":\n",
    "                df[coluna] = df[coluna].apply(\n",
    "                    lambda x: \"Desconhecido\" if coluna != \"Sexo\" and (pd.isna(x) or len(str(x)) < 3) else x\n",
    "                )\n",
    "    return df\n",
    "\n",
    "df = pre_process(df)\n",
    "df.to_csv('./data/processed_data.csv', index=False)"
   ]
  },
  {
   "cell_type": "markdown",
   "metadata": {},
   "source": [
    "## Tratando outliers\n",
    "##### Através do modelo `isolation-florest`, conseguimos extrair os padrões dos dados do nosso dataset, e através desse padrao conseguimos dizer se um certo valor está dentro do padrão ou não, atribuindo um score que é analisado pelo modelo, e de acordo com a contaminação estabelecida e o padrão dos demais scores, deleta ou mantem o valor em questão. Para fins de desenvolvimento, salvamos os dados tratados na pasta `./data/cleaned_data.csv`"
   ]
  },
  {
   "cell_type": "code",
   "execution_count": 223,
   "metadata": {},
   "outputs": [],
   "source": [
    "from sklearn.ensemble import IsolationForest\n",
    "\n",
    "def remove_outliers(df):\n",
    "    isolation_forest = IsolationForest(contamination=0.05)  \n",
    "\n",
    "    numeric_columns = df.select_dtypes(include=[np.number]).columns\n",
    "    df_numeric = df[numeric_columns]\n",
    "    \n",
    "    outliers = isolation_forest.fit_predict(df_numeric)\n",
    "\n",
    "    df_cleaned = df[outliers == 1]\n",
    "    \n",
    "    return df_cleaned\n",
    "\n",
    "df = remove_outliers(df)\n",
    "df.to_csv('./data/cleaned_data.csv',index=False)"
   ]
  },
  {
   "cell_type": "markdown",
   "metadata": {},
   "source": [
    "## Definindo features e o target\n",
    "##### Definindo de forma estatica as colunas que serão as features usadas nos modelos de regressão, bem como a coluna alvo."
   ]
  },
  {
   "cell_type": "code",
   "execution_count": 224,
   "metadata": {},
   "outputs": [],
   "source": [
    "columns = [\n",
    "        \"Curso\",\n",
    "        \"Modalidade\", \n",
    "        \"Presencial/Distância\",\n",
    "        \"Sexo\",\n",
    "        \"Nível\",\n",
    "]\n",
    "target_column = \"Renda per Capita\""
   ]
  },
  {
   "cell_type": "markdown",
   "metadata": {},
   "source": [
    "## Transformando os dados\n",
    "##### Nessa etapa, fazemos uma mistura de técnicas de transformação de dados, como `one-hot-encoding` para transformar as variaveis categoricas em variaveis numéricas."
   ]
  },
  {
   "cell_type": "code",
   "execution_count": 225,
   "metadata": {},
   "outputs": [],
   "source": [
    "from sklearn.preprocessing import OneHotEncoder\n",
    "\n",
    "def transform_data(df: pd.DataFrame) -> pd.DataFrame:\n",
    "    X = df[columns]\n",
    "    y = df[target_column]\n",
    "    \n",
    "    encoder = OneHotEncoder(drop='first', sparse_output=False, handle_unknown='ignore')\n",
    "    \n",
    "    X_encoded = encoder.fit_transform(X)\n",
    "    \n",
    "    X_encoded_df = pd.DataFrame(X_encoded, columns=encoder.get_feature_names_out(columns))\n",
    "    \n",
    "    df_encoded = pd.concat([X_encoded_df, y], axis=1)\n",
    "    df_encoded = df_encoded.dropna(subset=['Renda per Capita'])\n",
    "\n",
    "    \n",
    "    return df_encoded\n",
    "\n",
    "\n",
    "df = transform_data(df)\n",
    "df.to_csv('./data/encoded_data.csv',index=False)\n",
    "\n"
   ]
  },
  {
   "cell_type": "markdown",
   "metadata": {},
   "source": [
    "## Pós-processamento dos dados\n",
    "#### Nessa etapa iremos fazer mais um pente fino nos nossos dados para mitigar valores nulos ou ausentes, ou valores que estao fora do padrão esperado."
   ]
  },
  {
   "cell_type": "code",
   "execution_count": 226,
   "metadata": {},
   "outputs": [],
   "source": [
    "df = df.dropna()"
   ]
  },
  {
   "cell_type": "markdown",
   "metadata": {},
   "source": [
    "## Separando dataset\n",
    "##### Nessa etapa, estamos separando os nossos dados, divindo entre treino e teste. Nesse caso foi utilizado 70% dos dados para treino e 30% para teste. A biblioteca utilizada foi `sklearn.model_selection` com a funcao `train_test_split`"
   ]
  },
  {
   "cell_type": "code",
   "execution_count": 227,
   "metadata": {},
   "outputs": [],
   "source": [
    "from sklearn.model_selection import train_test_split\n",
    "\n",
    "X = df.drop(columns=[\"Renda per Capita\"])  \n",
    "y = df[\"Renda per Capita\"]\n",
    "\n",
    "X_train, X_test, y_train, y_test = train_test_split(X, y, test_size=0.3, random_state=42)"
   ]
  },
  {
   "cell_type": "markdown",
   "metadata": {},
   "source": [
    "## Treinamento com modelos de regressão\n",
    "##### Essa etapa consiste em fazer o split do nosso dataset, em dados de treino e de teste, e realizar o treinamento dos nossos dados com o modelo de `linear-regression` e `decision-tree-regression`, ambos da biblioteca `sklearn`"
   ]
  },
  {
   "cell_type": "code",
   "execution_count": 228,
   "metadata": {},
   "outputs": [],
   "source": [
    "from sklearn.linear_model import LinearRegression\n",
    "from sklearn.tree import DecisionTreeRegressor\n",
    "\n",
    "linear_model = LinearRegression()\n",
    "linear_model.fit(X_train, y_train)\n",
    "\n",
    "y_pred_linear = linear_model.predict(X_test)\n",
    "\n",
    "tree_model = DecisionTreeRegressor(random_state=42)\n",
    "tree_model.fit(X_train, y_train)\n",
    "\n",
    "y_pred_tree = tree_model.predict(X_test)\n"
   ]
  },
  {
   "cell_type": "markdown",
   "metadata": {},
   "source": [
    "## Aplicando testes\n",
    "##### Nessa etapa, iremos aplicar os testes, e ver como os nossos dados se comportaram diante os dois modelos utilizados, e analisar caracteristicas como viés e variância dos nossos dados, bem como o resultado dos nossos modelos de regressão"
   ]
  },
  {
   "cell_type": "code",
   "execution_count": 229,
   "metadata": {},
   "outputs": [
    {
     "name": "stdout",
     "output_type": "stream",
     "text": [
      "Linear Regression - Training RMSE: 0.6116748431939378\n",
      "Linear Regression - Test RMSE: 62116933805.56048\n",
      "Decision Tree - Training RMSE: 0.6060526588304407\n",
      "Decision Tree - Test RMSE: 0.6401832433789637\n",
      "Linear Regression - Bias: 3.3008673282477213e+22\n",
      "Linear Regression - Variance: 1.1576778566221418e+20\n",
      "Linear Regression - Error: 3.2892905496814987e+22\n",
      "Decision Tree - Bias: 0.4197858682259548\n",
      "Decision Tree - Variance: 0.40943243718122857\n",
      "Decision Tree - Error: 0.010353431044726245\n"
     ]
    },
    {
     "ename": "",
     "evalue": "",
     "output_type": "error",
     "traceback": [
      "\u001b[1;31mThe Kernel crashed while executing code in the current cell or a previous cell. \n",
      "\u001b[1;31mPlease review the code in the cell(s) to identify a possible cause of the failure. \n",
      "\u001b[1;31mClick <a href='https://aka.ms/vscodeJupyterKernelCrash'>here</a> for more info. \n",
      "\u001b[1;31mView Jupyter <a href='command:jupyter.viewOutput'>log</a> for further details."
     ]
    }
   ],
   "source": [
    "from sklearn.metrics import mean_squared_error\n",
    "from mlxtend.evaluate import bias_variance_decomp\n",
    "import numpy as np\n",
    "\n",
    "def rmse(y_true, y_pred):\n",
    "    return np.sqrt(mean_squared_error(y_true, y_pred))\n",
    "\n",
    "rmse_linear_test = rmse(y_test, y_pred_linear)\n",
    "rmse_linear_train = rmse(y_train, linear_model.predict(X_train))\n",
    "\n",
    "rmse_tree_test = rmse(y_test, y_pred_tree)\n",
    "rmse_tree_train = rmse(y_train, tree_model.predict(X_train))\n",
    "\n",
    "print(f\"Linear Regression - Training RMSE: {rmse_linear_train}\")\n",
    "print(f\"Linear Regression - Test RMSE: {rmse_linear_test}\")\n",
    "print(f\"Decision Tree - Training RMSE: {rmse_tree_train}\")\n",
    "print(f\"Decision Tree - Test RMSE: {rmse_tree_test}\")\n",
    "\n",
    "linear_bias, linear_variance, linear_error = bias_variance_decomp(linear_model, X_train.to_numpy(), y_train.to_numpy(), X_test.to_numpy(), y_test.to_numpy(), loss='mse')\n",
    "\n",
    "tree_bias, tree_variance, tree_error = bias_variance_decomp(tree_model, X_train.to_numpy(), y_train.to_numpy(), X_test.to_numpy(), y_test.to_numpy(), loss='mse')\n",
    "\n",
    "print(f\"Linear Regression - Bias: {linear_bias}\")\n",
    "print(f\"Linear Regression - Variance: {linear_variance}\")\n",
    "print(f\"Linear Regression - Error: {linear_error}\")\n",
    "\n",
    "print(f\"Decision Tree - Bias: {tree_bias}\")\n",
    "print(f\"Decision Tree - Variance: {tree_variance}\")\n",
    "print(f\"Decision Tree - Error: {tree_error}\")\n"
   ]
  }
 ],
 "metadata": {
  "kernelspec": {
   "display_name": "Python 3",
   "language": "python",
   "name": "python3"
  },
  "language_info": {
   "codemirror_mode": {
    "name": "ipython",
    "version": 3
   },
   "file_extension": ".py",
   "mimetype": "text/x-python",
   "name": "python",
   "nbconvert_exporter": "python",
   "pygments_lexer": "ipython3",
   "version": "3.12.0"
  }
 },
 "nbformat": 4,
 "nbformat_minor": 2
}

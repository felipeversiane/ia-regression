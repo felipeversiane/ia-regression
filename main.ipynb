{
 "cells": [
  {
   "cell_type": "markdown",
   "metadata": {},
   "source": [
    "## Coletando dados\n",
    "##### Coletando dados salvos estaticamente na pasta `./data`"
   ]
  },
  {
   "cell_type": "code",
   "execution_count": 42,
   "metadata": {},
   "outputs": [],
   "source": [
    "import pandas as pd\n",
    "\n",
    "df = pd.read_csv(\"./data/data.csv\",low_memory=False)"
   ]
  },
  {
   "cell_type": "markdown",
   "metadata": {},
   "source": [
    "## Convertendo valor de renda per capita para numérico\n",
    "##### Extraindo os valores de `Renda Per Capita`, transformando de categorico para numerico, atraves da media entre o menor e o maior valor. "
   ]
  },
  {
   "cell_type": "code",
   "execution_count": 43,
   "metadata": {},
   "outputs": [],
   "source": [
    "import re \n",
    "import numpy as np\n",
    "\n",
    "def convert_renda_per_capita(value):\n",
    "    if isinstance(value, str):\n",
    "        match = re.match(r\"(\\d+,\\d+|\\d+) Sm < Rfp <= (\\d+,\\d+|\\d+) Sm\", value)\n",
    "        if match:\n",
    "            lower_bound = float(match.group(1).replace(\",\", \".\"))\n",
    "            upper_bound = float(match.group(2).replace(\",\", \".\"))\n",
    "            return (lower_bound + upper_bound) / 2\n",
    "    return np.nan\n",
    "\n",
    "df[\"Renda per Capita\"] = df[\"Renda per Capita\"].apply(convert_renda_per_capita)"
   ]
  },
  {
   "cell_type": "markdown",
   "metadata": {},
   "source": [
    "## Pré-processando valores nulos \n",
    "##### Processando valores nulos, para valores categoricos atribuir categoria `Desconhecido`, para variaveis numericas, tirando `Renda Per Capita`, atribuimos a media dos valores daquela coluna. Para fins de desenvolvimento, salvamos os dados processados na pasta `./data/processed_data.csv`\n"
   ]
  },
  {
   "cell_type": "code",
   "execution_count": 44,
   "metadata": {},
   "outputs": [],
   "source": [
    "def pre_process(df) -> pd.DataFrame:\n",
    "    df = df.copy()\n",
    "    for coluna in df.columns:\n",
    "        if df[coluna].dtype in [\"float64\", \"int64\"]:  \n",
    "            if coluna == \"Renda per Capita\":\n",
    "                df = df[df[\"Renda per Capita\"].notnull() & (df[\"Renda per Capita\"] != \"\")]\n",
    "            df[coluna] = df[coluna].fillna(df[coluna].mean())  \n",
    "        elif df[coluna].dtype == \"object\":\n",
    "                df[coluna] = df[coluna].apply(\n",
    "                    lambda x: \"Desconhecido\" if coluna != \"Sexo\" and (pd.isna(x) or len(str(x)) < 3) else x\n",
    "                )\n",
    "    return df\n",
    "\n",
    "df = pre_process(df)\n",
    "df.to_csv('./data/processed_data.csv', index=False)"
   ]
  },
  {
   "cell_type": "markdown",
   "metadata": {},
   "source": [
    "## Tratando outliers\n",
    "##### Através do modelo `isolation-florest`, conseguimos extrair os padrões dos dados do nosso dataset, e através desse padrao conseguimos dizer se um certo valor está dentro do padrão ou não, atribuindo um score que é analisado pelo modelo, e de acordo com a contaminação estabelecida e o padrão dos demais scores, deleta ou mantem o valor em questão. Para fins de desenvolvimento, salvamos os dados tratados na pasta `./data/cleaned_data.csv`"
   ]
  },
  {
   "cell_type": "code",
   "execution_count": 45,
   "metadata": {},
   "outputs": [],
   "source": [
    "from sklearn.ensemble import IsolationForest\n",
    "\n",
    "def remove_outliers(df):\n",
    "    isolation_forest = IsolationForest(contamination=0.05)  \n",
    "\n",
    "    numeric_columns = df.select_dtypes(include=[np.number]).columns\n",
    "    df_numeric = df[numeric_columns]\n",
    "    \n",
    "    outliers = isolation_forest.fit_predict(df_numeric)\n",
    "\n",
    "    df_cleaned = df[outliers == 1]\n",
    "    \n",
    "    return df_cleaned\n",
    "\n",
    "df = remove_outliers(df)\n",
    "df.to_csv('./data/cleaned_data.csv',index=False)"
   ]
  },
  {
   "cell_type": "markdown",
   "metadata": {},
   "source": [
    "## Transformando os dados\n",
    "##### Nessa etapa, fazemos uma mistura de técnicas de transformação de dados, como `one-hot-encoding` e `tfidf` para transformar as variaveis categoricas em variaveis numéricas."
   ]
  },
  {
   "cell_type": "code",
   "execution_count": 46,
   "metadata": {},
   "outputs": [],
   "source": [
    "from sklearn.preprocessing import OneHotEncoder\n",
    "\n",
    "columns = [\n",
    "        \"Curso\",\n",
    "        \"Modalidade\", \n",
    "        \"Presencial/Distância\",\n",
    "        \"Sexo\",\n",
    "        \"Nível\",\n",
    "]\n",
    "target_column = \"Renda per Capita\"\n",
    "\n",
    "def transform_data(df: pd.DataFrame) -> pd.DataFrame:\n",
    "    X = df[columns]\n",
    "    y = df[target_column]\n",
    "    \n",
    "    encoder = OneHotEncoder(drop='first', sparse_output=False, handle_unknown='ignore')\n",
    "    \n",
    "    X_encoded = encoder.fit_transform(X)\n",
    "    \n",
    "    X_encoded_df = pd.DataFrame(X_encoded, columns=encoder.get_feature_names_out(columns))\n",
    "    \n",
    "    df_encoded = pd.concat([X_encoded_df, y], axis=1)\n",
    "    \n",
    "    return df_encoded\n",
    "\n",
    "\n",
    "df = transform_data(df)\n",
    "df.to_csv('./data/encoded_data.csv',index=False)\n"
   ]
  },
  {
   "cell_type": "markdown",
   "metadata": {},
   "source": [
    "## Pós-processamento dos dados\n",
    "##### Nessa etapa, iremos aplicar uma etapa de pós-processamento."
   ]
  },
  {
   "cell_type": "code",
   "execution_count": null,
   "metadata": {},
   "outputs": [],
   "source": []
  },
  {
   "cell_type": "markdown",
   "metadata": {},
   "source": [
    "## Aplicando testes\n",
    "##### Nessa etapa, iremos aplicar os testes, e ver como os nossos dados se comportaram diante os dois modelos utilizados, e analisar caracteristicas como viés e variância dos nossos dados, bem como o resultado dos nossos modelos de regressão"
   ]
  },
  {
   "cell_type": "code",
   "execution_count": null,
   "metadata": {},
   "outputs": [],
   "source": []
  }
 ],
 "metadata": {
  "kernelspec": {
   "display_name": "Python 3",
   "language": "python",
   "name": "python3"
  },
  "language_info": {
   "codemirror_mode": {
    "name": "ipython",
    "version": 3
   },
   "file_extension": ".py",
   "mimetype": "text/x-python",
   "name": "python",
   "nbconvert_exporter": "python",
   "pygments_lexer": "ipython3",
   "version": "3.12.0"
  }
 },
 "nbformat": 4,
 "nbformat_minor": 2
}
